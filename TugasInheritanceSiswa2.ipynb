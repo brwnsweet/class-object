{
  "nbformat": 4,
  "nbformat_minor": 0,
  "metadata": {
    "colab": {
      "provenance": [],
      "include_colab_link": true
    },
    "kernelspec": {
      "name": "python3",
      "display_name": "Python 3"
    },
    "language_info": {
      "name": "python"
    }
  },
  "cells": [
    {
      "cell_type": "markdown",
      "metadata": {
        "id": "view-in-github",
        "colab_type": "text"
      },
      "source": [
        "<a href=\"https://colab.research.google.com/github/brwnsweet/class-object/blob/main/TugasInheritanceSiswa2.ipynb\" target=\"_parent\"><img src=\"https://colab.research.google.com/assets/colab-badge.svg\" alt=\"Open In Colab\"/></a>"
      ]
    },
    {
      "cell_type": "markdown",
      "source": [
        "Buatlah tiga kelas: User, Siswa, dan Guru. Class Siswa dan Guru mewarisi atribute dan fungsi dari class User. Keduanya menambahkan atribut dan fungsi tambahan sesuai dengan peran masing-masing.\n",
        "\n",
        "Output dari program ini akan menampilkan informasi seorang siswa dan seorang guru dengan menggunakan fungsi tampil_info() yang diwarisi dari class User. Untuk info user yang ditampilkan silakan ditentukan sendiri minimal ada nama dan umur.\n",
        "\n",
        "Untuk informasi khusus dari siswa dan guru silakan tentukan sendiri, minimal satu atribute tambahan yang membedakan antara siswa dan guru."
      ],
      "metadata": {
        "id": "oWYx5WDsIouf"
      }
    },
    {
      "cell_type": "code",
      "execution_count": 38,
      "metadata": {
        "id": "VQWWW4rpH9ve"
      },
      "outputs": [],
      "source": [
        "#Class User\n",
        "class User:\n",
        "  def __init__ (self, nama, umur, agama, hobi, alamat):\n",
        "    self.nama = nama\n",
        "    self.umur = umur\n",
        "    self.agama = agama\n",
        "    self.hobi = hobi\n",
        "    self.alamat = alamat\n",
        "\n",
        "  def perkenalan(self):\n",
        "   print(\"nama  :\" , self.nama)\n",
        "   print(\"umur :\" , self.umur)\n",
        "   print(\"agama  :\" , self.agama)\n",
        "   print(\"hobi  :\" , self.hobi)\n",
        "   print(\"alamat  :\" , self.alamat)"
      ]
    },
    {
      "cell_type": "code",
      "source": [
        "#Class Siswa\n",
        "class Siswa(User):\n",
        "  def __init__ (self, nama, umur, agama, hobi, alamat, kelas, eskul):\n",
        "    super().__init__(nama, umur, agama, hobi, alamat)\n",
        "    self.kelas = kelas\n",
        "    self.eskul = eskul\n",
        "\n",
        "  def belajar(self):\n",
        "    super().perkenalan()\n",
        "    print(\"kelas  :\" , self.kelas)\n",
        "    print(\"eskul  :\" , self.eskul)"
      ],
      "metadata": {
        "id": "i_iBjMciJJc5"
      },
      "execution_count": 46,
      "outputs": []
    },
    {
      "cell_type": "code",
      "source": [
        "#Class Guru\n",
        "class Guru(User):\n",
        "  def __init__(self, nama, umur, agama, hobi, alamat, pelajaran, waktu):\n",
        "    super().__init__(nama, umur, agama, hobi, alamat)\n",
        "    self.pelajaran = pelajaran\n",
        "    self.waktu = waktu\n",
        "\n",
        "  def mengajar(self):\n",
        "    super().perkenalan()\n",
        "    print(\"pelajaran  :\" , self.pelajaran)\n",
        "    print(\"waktu  :\" , self.waktu)"
      ],
      "metadata": {
        "id": "lrnlKm6sJMjp"
      },
      "execution_count": 47,
      "outputs": []
    },
    {
      "cell_type": "code",
      "source": [
        "#Program utama untuk menampilkan info\n",
        "siswa = Siswa(\"eunwoo\", 16, \"katolik\", \"menyanyi\", \"korsel\", 11, \"actor\")\n",
        "guru = Guru(\"kimbum\", 34, \"katolik\", \"menyanyi\", \"korsel\", \"hangeul\", 5)\n",
        "\n",
        "\n",
        "siswa.belajar()\n",
        "guru.mengajar()"
      ],
      "metadata": {
        "id": "VDGIma_2JOVx",
        "colab": {
          "base_uri": "https://localhost:8080/"
        },
        "outputId": "1dbb55a9-b9b7-429f-fdb1-507af5ae7980"
      },
      "execution_count": 48,
      "outputs": [
        {
          "output_type": "stream",
          "name": "stdout",
          "text": [
            "nama  : eunwoo\n",
            "umur : 16\n",
            "agama  : katolik\n",
            "hobi  : menyanyi\n",
            "alamat  : korsel\n",
            "kelas  : 11\n",
            "eskul  : actor\n",
            "nama  : kimbum\n",
            "umur : 34\n",
            "agama  : katolik\n",
            "hobi  : menyanyi\n",
            "alamat  : korsel\n",
            "pelajaran  : hangeul\n",
            "waktu  : 5\n"
          ]
        }
      ]
    }
  ]
}